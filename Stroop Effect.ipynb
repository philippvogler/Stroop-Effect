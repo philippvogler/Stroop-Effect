{
 "cells": [
  {
   "cell_type": "markdown",
   "metadata": {},
   "source": [
    "# Stroop effect\n",
    "Udacity  \n",
    "Data Science Nano Degree  \n",
    "Project 1  \n",
    "Philipp Vogler  \n",
    "October 2016  "
   ]
  },
  {
   "cell_type": "markdown",
   "metadata": {},
   "source": [
    "## Questions  \n",
    "\n",
    "### Q1. What is our independent variable?   \n",
    "Congruency of the words with the color of the ink\n",
    "\n",
    "### What is our dependent variable?  \n",
    "> “time it takes to name the ink colors”\n",
    "\n",
    "### Q2a. What is an appropriate set of hypotheses for this task?  \n",
    "The description of the Stroop effect suggests, that it is harder to name incongruent words (ink color is not the word). A harder task should take mire time to for fill. \n",
    "\n",
    "**Null - Hypothesis:  **\n",
    "There **no** significant difference between the time it takes to name congruent words and incongruent words correctly.\n",
    "\n",
    "H<sub>null</sub>: µ<sub>incon</sub> = µ<sub>con</sub>\n",
    "\n",
    "**Alt.- Hypothesis:  **\n",
    "There a significant difference between the time it takes to name congruent words and incongruent words correctly.\n",
    "\n",
    "H<sub>alt</sub>: µ<sub>incon</sub> ≠ µ<sub>con</sub>\n",
    "\n",
    "\n",
    "### Q2b. What kind of statistical test do you expect to perform?  \n",
    "Hypothesis testing with a dependend t-test with paird examples."
   ]
  },
  {
   "cell_type": "code",
   "execution_count": 10,
   "metadata": {
    "collapsed": true
   },
   "outputs": [],
   "source": [
    "# Libraries\n",
    "import pandas as pd\n",
    "import matplotlib.pyplot as plt"
   ]
  },
  {
   "cell_type": "code",
   "execution_count": 2,
   "metadata": {
    "collapsed": false
   },
   "outputs": [
    {
     "data": {
      "text/html": [
       "<div>\n",
       "<table border=\"1\" class=\"dataframe\">\n",
       "  <thead>\n",
       "    <tr style=\"text-align: right;\">\n",
       "      <th></th>\n",
       "      <th>Congruent</th>\n",
       "      <th>Incongruent</th>\n",
       "    </tr>\n",
       "  </thead>\n",
       "  <tbody>\n",
       "    <tr>\n",
       "      <th>0</th>\n",
       "      <td>12.079</td>\n",
       "      <td>19.278</td>\n",
       "    </tr>\n",
       "    <tr>\n",
       "      <th>1</th>\n",
       "      <td>16.791</td>\n",
       "      <td>18.741</td>\n",
       "    </tr>\n",
       "    <tr>\n",
       "      <th>2</th>\n",
       "      <td>9.564</td>\n",
       "      <td>21.214</td>\n",
       "    </tr>\n",
       "    <tr>\n",
       "      <th>3</th>\n",
       "      <td>8.630</td>\n",
       "      <td>15.687</td>\n",
       "    </tr>\n",
       "    <tr>\n",
       "      <th>4</th>\n",
       "      <td>14.669</td>\n",
       "      <td>22.803</td>\n",
       "    </tr>\n",
       "    <tr>\n",
       "      <th>5</th>\n",
       "      <td>12.238</td>\n",
       "      <td>20.878</td>\n",
       "    </tr>\n",
       "    <tr>\n",
       "      <th>6</th>\n",
       "      <td>14.692</td>\n",
       "      <td>24.572</td>\n",
       "    </tr>\n",
       "    <tr>\n",
       "      <th>7</th>\n",
       "      <td>8.987</td>\n",
       "      <td>17.394</td>\n",
       "    </tr>\n",
       "    <tr>\n",
       "      <th>8</th>\n",
       "      <td>9.401</td>\n",
       "      <td>20.762</td>\n",
       "    </tr>\n",
       "    <tr>\n",
       "      <th>9</th>\n",
       "      <td>14.480</td>\n",
       "      <td>26.282</td>\n",
       "    </tr>\n",
       "    <tr>\n",
       "      <th>10</th>\n",
       "      <td>22.328</td>\n",
       "      <td>24.524</td>\n",
       "    </tr>\n",
       "    <tr>\n",
       "      <th>11</th>\n",
       "      <td>15.298</td>\n",
       "      <td>18.644</td>\n",
       "    </tr>\n",
       "    <tr>\n",
       "      <th>12</th>\n",
       "      <td>15.073</td>\n",
       "      <td>17.510</td>\n",
       "    </tr>\n",
       "    <tr>\n",
       "      <th>13</th>\n",
       "      <td>16.929</td>\n",
       "      <td>20.330</td>\n",
       "    </tr>\n",
       "    <tr>\n",
       "      <th>14</th>\n",
       "      <td>18.200</td>\n",
       "      <td>35.255</td>\n",
       "    </tr>\n",
       "    <tr>\n",
       "      <th>15</th>\n",
       "      <td>12.130</td>\n",
       "      <td>22.158</td>\n",
       "    </tr>\n",
       "    <tr>\n",
       "      <th>16</th>\n",
       "      <td>18.495</td>\n",
       "      <td>25.139</td>\n",
       "    </tr>\n",
       "    <tr>\n",
       "      <th>17</th>\n",
       "      <td>10.639</td>\n",
       "      <td>20.429</td>\n",
       "    </tr>\n",
       "    <tr>\n",
       "      <th>18</th>\n",
       "      <td>11.344</td>\n",
       "      <td>17.425</td>\n",
       "    </tr>\n",
       "    <tr>\n",
       "      <th>19</th>\n",
       "      <td>12.369</td>\n",
       "      <td>34.288</td>\n",
       "    </tr>\n",
       "    <tr>\n",
       "      <th>20</th>\n",
       "      <td>12.944</td>\n",
       "      <td>23.894</td>\n",
       "    </tr>\n",
       "    <tr>\n",
       "      <th>21</th>\n",
       "      <td>14.233</td>\n",
       "      <td>17.960</td>\n",
       "    </tr>\n",
       "    <tr>\n",
       "      <th>22</th>\n",
       "      <td>19.710</td>\n",
       "      <td>22.058</td>\n",
       "    </tr>\n",
       "    <tr>\n",
       "      <th>23</th>\n",
       "      <td>16.004</td>\n",
       "      <td>21.157</td>\n",
       "    </tr>\n",
       "  </tbody>\n",
       "</table>\n",
       "</div>"
      ],
      "text/plain": [
       "    Congruent  Incongruent\n",
       "0      12.079       19.278\n",
       "1      16.791       18.741\n",
       "2       9.564       21.214\n",
       "3       8.630       15.687\n",
       "4      14.669       22.803\n",
       "5      12.238       20.878\n",
       "6      14.692       24.572\n",
       "7       8.987       17.394\n",
       "8       9.401       20.762\n",
       "9      14.480       26.282\n",
       "10     22.328       24.524\n",
       "11     15.298       18.644\n",
       "12     15.073       17.510\n",
       "13     16.929       20.330\n",
       "14     18.200       35.255\n",
       "15     12.130       22.158\n",
       "16     18.495       25.139\n",
       "17     10.639       20.429\n",
       "18     11.344       17.425\n",
       "19     12.369       34.288\n",
       "20     12.944       23.894\n",
       "21     14.233       17.960\n",
       "22     19.710       22.058\n",
       "23     16.004       21.157"
      ]
     },
     "execution_count": 2,
     "metadata": {},
     "output_type": "execute_result"
    }
   ],
   "source": [
    "# Data import\n",
    "path = r'/Users/philipp/Desktop/DS/Projects/Stroop_effect/stroopdata.csv'\n",
    "\n",
    "dataFrame = pd.read_csv(path)\n",
    "dataFrame"
   ]
  },
  {
   "cell_type": "markdown",
   "metadata": {},
   "source": [
    "### Q3. Descriptive Statistics"
   ]
  },
  {
   "cell_type": "code",
   "execution_count": 3,
   "metadata": {
    "collapsed": false
   },
   "outputs": [
    {
     "data": {
      "text/html": [
       "<div>\n",
       "<table border=\"1\" class=\"dataframe\">\n",
       "  <thead>\n",
       "    <tr style=\"text-align: right;\">\n",
       "      <th></th>\n",
       "      <th>Congruent</th>\n",
       "      <th>Incongruent</th>\n",
       "    </tr>\n",
       "  </thead>\n",
       "  <tbody>\n",
       "    <tr>\n",
       "      <th>count</th>\n",
       "      <td>24.000000</td>\n",
       "      <td>24.000000</td>\n",
       "    </tr>\n",
       "    <tr>\n",
       "      <th>mean</th>\n",
       "      <td>14.051125</td>\n",
       "      <td>22.015917</td>\n",
       "    </tr>\n",
       "    <tr>\n",
       "      <th>std</th>\n",
       "      <td>3.559358</td>\n",
       "      <td>4.797057</td>\n",
       "    </tr>\n",
       "    <tr>\n",
       "      <th>min</th>\n",
       "      <td>8.630000</td>\n",
       "      <td>15.687000</td>\n",
       "    </tr>\n",
       "    <tr>\n",
       "      <th>25%</th>\n",
       "      <td>11.895250</td>\n",
       "      <td>18.716750</td>\n",
       "    </tr>\n",
       "    <tr>\n",
       "      <th>50%</th>\n",
       "      <td>14.356500</td>\n",
       "      <td>21.017500</td>\n",
       "    </tr>\n",
       "    <tr>\n",
       "      <th>75%</th>\n",
       "      <td>16.200750</td>\n",
       "      <td>24.051500</td>\n",
       "    </tr>\n",
       "    <tr>\n",
       "      <th>max</th>\n",
       "      <td>22.328000</td>\n",
       "      <td>35.255000</td>\n",
       "    </tr>\n",
       "  </tbody>\n",
       "</table>\n",
       "</div>"
      ],
      "text/plain": [
       "       Congruent  Incongruent\n",
       "count  24.000000    24.000000\n",
       "mean   14.051125    22.015917\n",
       "std     3.559358     4.797057\n",
       "min     8.630000    15.687000\n",
       "25%    11.895250    18.716750\n",
       "50%    14.356500    21.017500\n",
       "75%    16.200750    24.051500\n",
       "max    22.328000    35.255000"
      ]
     },
     "execution_count": 3,
     "metadata": {},
     "output_type": "execute_result"
    }
   ],
   "source": [
    "# Despriptive statistics\n",
    "dataFrame.describe()"
   ]
  },
  {
   "cell_type": "markdown",
   "metadata": {},
   "source": [
    "### Q4. Plot"
   ]
  },
  {
   "cell_type": "code",
   "execution_count": 4,
   "metadata": {
    "collapsed": false,
    "scrolled": false
   },
   "outputs": [
    {
     "name": "stdout",
     "output_type": "stream",
     "text": [
      "Populating the interactive namespace from numpy and matplotlib\n"
     ]
    },
    {
     "data": {
      "text/plain": [
       "<matplotlib.text.Text at 0x116706410>"
      ]
     },
     "execution_count": 4,
     "metadata": {},
     "output_type": "execute_result"
    },
    {
     "data": {
      "image/png": "[encoded data removed]",
      "text/plain": [
       "<matplotlib.figure.Figure at 0x1164f2f90>"
      ]
     },
     "metadata": {},
     "output_type": "display_data"
    }
   ],
   "source": [
    "# Plot\n",
    "%pylab inline\n",
    "dataFrame.plot.box()\n",
    "\n",
    "plt.ylabel(\"Time in sec.\")\n",
    "plt.title(\"Stroop Effect\")"
   ]
  },
  {
   "cell_type": "markdown",
   "metadata": {},
   "source": [
    "While the congruent distribution is skewed toward shorter times, the incongruent distribution is more evenly distributed (outliers notwithstanding). There are two outliers around 35 seconds. The incongruent word condition exercise takes about 5 seconds longer on average."
   ]
  },
  {
   "cell_type": "markdown",
   "metadata": {},
   "source": [
    "### Q5. Test\n",
    "\n",
    "**Dependend t-test with paird examples**  "
   ]
  },
  {
   "cell_type": "code",
   "execution_count": 21,
   "metadata": {
    "collapsed": false
   },
   "outputs": [
    {
     "name": "stdout",
     "output_type": "stream",
     "text": [
      "Congruent Mean: 14.051125\n",
      "Incongruent Mean: 22.0159166667 \n",
      "Point Estimat: -7.96479166667\n",
      "Average Difference: -7.96479166667\n",
      "Count: 24\n",
      "Degrees of Freedom: 23\n",
      "Standard Diviation of Differences: 23.3308902522\n",
      "t-statistic: -1.67243300877\n",
      "Test: t_statistic < t_critical: False\n",
      "Test: t_statistic > t_critical: False\n"
     ]
    }
   ],
   "source": [
    "# t-Test\n",
    "#ttost_paired(x1, x2, low, upp[, transform, ...])\ttest of (non-)equivalence for two dependent, paired sample\n",
    "\n",
    "# Means\n",
    "print('Congruent Mean: {}'.format(dataFrame.Congruent.mean()))\n",
    "print('Incongruent Mean: {} '.format(dataFrame.Incongruent.mean()))\n",
    "\n",
    "# Point Estimat\n",
    "point_estimat = dataFrame.Congruent.mean()-dataFrame.Incongruent.mean()\n",
    "print('Point Estimat: {}'.format(point_estimat))\n",
    "\n",
    "# Differences\n",
    "dataFrame['Differences'] = dataFrame.Congruent - dataFrame.Incongruent\n",
    "\n",
    "# Average Difference\n",
    "print('Average Difference: {}'.format(dataFrame.Differences.mean()))\n",
    "\n",
    "# Count\n",
    "count = dataFrame.Congruent.count()\n",
    "print('Count: {}'.format(count))\n",
    "\n",
    "# Degrees of Freedom\n",
    "dof = count - 1\n",
    "print('Degrees of Freedom: {}'.format(dof))\n",
    "\n",
    "# Standard Diviation of Differneces\n",
    "std = dataFrame.Differences.std(ddof = dof)\n",
    "print('Standard Diviation of Differences: {}'.format(std))\n",
    "\n",
    "# t-Statistic\n",
    "t_statistic = point_estimat / (std / sqrt(count))\n",
    "print('t-statistic: {}'.format(t_statistic))\n",
    "\n",
    "# Test\n",
    "print('Test: t_statistic < t_critical: {}'.format(t_statistic < -2.069))\n",
    "print('Test: t_statistic > t_critical: {}'.format(t_statistic > 2.069))"
   ]
  },
  {
   "cell_type": "markdown",
   "metadata": {},
   "source": [
    "#### What is your confidence level and your critical statistic value?  \n",
    "alpha = 0.05  \n",
    "CI = 95%  \n",
    "t_critical =  2.069 / -2.069 (from t-table)\n",
    "\n",
    "#### Do you reject the null hypothesis or fail to reject it?  \n",
    "I fail to reject the null hypothesis\n",
    "\n",
    "#### Did the results match up with your expectations?  \n",
    "The distribution overlap for about half of the range (outliers notwithstanding). So this result was expected."
   ]
  },
  {
   "cell_type": "markdown",
   "metadata": {},
   "source": [
    "## Sources:\n",
    "- [Wikipedia](https://en.wikipedia.org/wiki/Stroop_effect)\n",
    "- [Pandas Documentation](http://pandas.pydata.org/pandas-docs/version/0.17.1/generated/pandas.DataFrame.plot.box.html?highlight=box%20plot#pandas.DataFrame.plot.box)\n",
    "- [Matplotlib Documentation](http://matplotlib.org/examples/statistics/boxplot_demo.html)\n",
    "- [t-table](https://s3.amazonaws.com/udacity-hosted-downloads/t-table.jpg)"
   ]
  }
 ],
 "metadata": {
  "kernelspec": {
   "display_name": "Python 2",
   "language": "python",
   "name": "python2"
  },
  "language_info": {
   "codemirror_mode": {
    "name": "ipython",
    "version": 2
   },
   "file_extension": ".py",
   "mimetype": "text/x-python",
   "name": "python",
   "nbconvert_exporter": "python",
   "pygments_lexer": "ipython2",
   "version": "2.7.11"
  }
 },
 "nbformat": 4,
 "nbformat_minor": 0
}
